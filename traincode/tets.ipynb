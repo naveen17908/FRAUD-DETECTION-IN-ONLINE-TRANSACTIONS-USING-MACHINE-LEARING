{
 "cells": [
  {
   "cell_type": "code",
   "execution_count": 11,
   "id": "1705cc95-7a43-41b7-b9aa-df7c548f3b5d",
   "metadata": {},
   "outputs": [
    {
     "name": "stdout",
     "output_type": "stream",
     "text": [
      "Sample Transaction: {'user_id': 103, 'transaction_amount': 400.0, 'transaction_time': '2/20/2022 7:00:00', 'transaction_type': 'payment', 'location': 'Visakhapatnam', 'device_id': 'device_103', 'ip_address': '192.168.0.103', 'is_mobile': 1}\n",
      "Prediction (0 = Non-Fraud, 1 = Fraud): 0\n",
      "Probability of Fraud: 1.00%\n",
      "This transaction is predicted to be NON-FRAUDULENT.\n"
     ]
    },
    {
     "name": "stderr",
     "output_type": "stream",
     "text": [
      "C:\\Users\\user\\AppData\\Local\\Programs\\Python\\Python312\\Lib\\site-packages\\sklearn\\base.py:493: UserWarning: X does not have valid feature names, but RandomForestClassifier was fitted with feature names\n",
      "  warnings.warn(\n",
      "C:\\Users\\user\\AppData\\Local\\Programs\\Python\\Python312\\Lib\\site-packages\\sklearn\\base.py:493: UserWarning: X does not have valid feature names, but RandomForestClassifier was fitted with feature names\n",
      "  warnings.warn(\n"
     ]
    }
   ],
   "source": [
    "import pandas as pd\n",
    "import numpy as np\n",
    "import joblib\n",
    "from datetime import datetime\n",
    "\n",
    "# Load the saved model, scaler, and label encoders\n",
    "rf_model = joblib.load('fraud_detection_rf_model.pkl')\n",
    "scaler = joblib.load('scaler.pkl')\n",
    "label_encoders = {\n",
    "    'transaction_type': joblib.load('label_encoder_transaction_type.pkl'),\n",
    "    'location': joblib.load('label_encoder_location.pkl'),\n",
    "    'device_id': joblib.load('label_encoder_device_id.pkl'),\n",
    "    'ip_address': joblib.load('label_encoder_ip_address.pkl')\n",
    "}\n",
    "\n",
    "# Function to preprocess a single input transaction\n",
    "def preprocess_input(transaction_dict):\n",
    "    \"\"\"\n",
    "    Preprocess a single transaction input for prediction.\n",
    "    Input: Dictionary with raw transaction data\n",
    "    Output: Preprocessed numpy array ready for model prediction\n",
    "    \"\"\"\n",
    "    # Convert dictionary to DataFrame\n",
    "    df_input = pd.DataFrame([transaction_dict])\n",
    "    \n",
    "    # Extract time-based features\n",
    "    df_input['transaction_time'] = pd.to_datetime(df_input['transaction_time'])\n",
    "    df_input['hour'] = df_input['transaction_time'].dt.hour\n",
    "    df_input['day_of_week'] = df_input['transaction_time'].dt.dayofweek\n",
    "    \n",
    "    # Drop transaction_time after extracting features\n",
    "    df_input = df_input.drop(columns=['transaction_time'])\n",
    "    \n",
    "    # Encode categorical variables using loaded label encoders\n",
    "    for col, le in label_encoders.items():\n",
    "        # Handle unseen labels gracefully\n",
    "        df_input[col] = df_input[col].apply(lambda x: le.transform([x])[0] if x in le.classes_ \n",
    "                                           else le.transform([le.classes_[0]])[0])\n",
    "    \n",
    "    # Ensure columns match training data (excluding transaction_id and is_fraud)\n",
    "    expected_cols = ['user_id', 'transaction_amount', 'transaction_type', 'location', \n",
    "                     'device_id', 'ip_address', 'is_mobile', 'hour', 'day_of_week']\n",
    "    df_input = df_input[expected_cols]\n",
    "    \n",
    "    # Scale numerical features\n",
    "    numerical_cols = ['transaction_amount', 'user_id', 'hour', 'day_of_week']\n",
    "    df_input[numerical_cols] = scaler.transform(df_input[numerical_cols])\n",
    "    \n",
    "    return df_input.values\n",
    "\n",
    "# Example input transaction (customize as needed)\n",
    "sample_transaction = {\n",
    "    'user_id': 103,                         # User ID\n",
    "    'transaction_amount': 400.00,         # Amount in INR\n",
    "    'transaction_time': '2/20/2022 7:00:00',  # Late-night transaction\n",
    "    'transaction_type': 'payment',         # Type of transaction\n",
    "    'location': 'Visakhapatnam',                   # City\n",
    "    'device_id': 'device_103',              # Unusual device\n",
    "    'ip_address': '192.168.0.103',          # Unusual IP\n",
    "    'is_mobile': 1                          # Mobile device\n",
    "}\n",
    "\n",
    "# Preprocess the input\n",
    "processed_input = preprocess_input(sample_transaction)\n",
    "\n",
    "# Make prediction\n",
    "prediction = rf_model.predict(processed_input)\n",
    "probability = rf_model.predict_proba(processed_input)[:, 1]  # Probability of fraud\n",
    "\n",
    "# Output result\n",
    "print(f\"Sample Transaction: {sample_transaction}\")\n",
    "print(f\"Prediction (0 = Non-Fraud, 1 = Fraud): {prediction[0]}\")\n",
    "print(f\"Probability of Fraud: {probability[0]:.2%}\")\n",
    "\n",
    "# Interpret the result\n",
    "if prediction[0] == 1:\n",
    "    print(\"This transaction is predicted to be FRAUDULENT.\")\n",
    "else:\n",
    "    print(\"This transaction is predicted to be NON-FRAUDULENT.\")"
   ]
  },
  {
   "cell_type": "code",
   "execution_count": null,
   "id": "136ef812-91b6-4088-984a-c036829a2e06",
   "metadata": {},
   "outputs": [],
   "source": []
  }
 ],
 "metadata": {
  "kernelspec": {
   "display_name": "Python 3 (ipykernel)",
   "language": "python",
   "name": "python3"
  },
  "language_info": {
   "codemirror_mode": {
    "name": "ipython",
    "version": 3
   },
   "file_extension": ".py",
   "mimetype": "text/x-python",
   "name": "python",
   "nbconvert_exporter": "python",
   "pygments_lexer": "ipython3",
   "version": "3.12.0"
  }
 },
 "nbformat": 4,
 "nbformat_minor": 5
}
